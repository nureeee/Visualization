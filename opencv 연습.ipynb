import cv2
import matplotlib.pyplot as plt

# 이미지 읽기
img = cv2.imread("C:/Users/CPB06GameN/Pictures/co.jpg", cv2.IMREAD_COLOR)
# 예외처리
if img is None:
    raise Exception('영상파일 읽기 에러')

# 영상크기 정보
rows, cols = img.shape[:2]
rgb_img = cv2.cvtColor(img, cv2.COLOR_BGR2RGB)
gray_img = cv2.cvtColor(img, cv2.COLOR_BGR2GRAY)

fig = plt.figure(num=1, figsize=(3, 4))
plt.imshow(img), plt.title('original_bgr')
# 축, 공백 없음
plt.axis('off'), plt.tight_layout()
fig = plt.figure(figsize=(6, 4))
plt.suptitle('img display')
plt.subplot(1, 2, 1), plt.imshow(rgb_img)

plt.axis([0, cols, rows, 0]), plt.title('rgb_color')
plt.subplot(1, 2, 2), plt.imshow(gray_img, cmap='gray')
plt.title('gray_img2')
plt.show()
